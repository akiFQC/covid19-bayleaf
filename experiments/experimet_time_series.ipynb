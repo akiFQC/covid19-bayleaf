{
 "cells": [
  {
   "cell_type": "code",
   "execution_count": 11,
   "metadata": {},
   "outputs": [
    {
     "ename": "SyntaxError",
     "evalue": "invalid syntax (<ipython-input-11-636147424466>, line 6)",
     "output_type": "error",
     "traceback": [
      "\u001b[0;36m  File \u001b[0;32m\"<ipython-input-11-636147424466>\"\u001b[0;36m, line \u001b[0;32m6\u001b[0m\n\u001b[0;31m    from .. import src.data_loader as data_loader\u001b[0m\n\u001b[0m                      ^\u001b[0m\n\u001b[0;31mSyntaxError\u001b[0m\u001b[0;31m:\u001b[0m invalid syntax\n"
     ]
    }
   ],
   "source": [
    "import pandas as pd \n",
    "import sklearn \n",
    "import scipy\n",
    "import matplotlib.pyplot as plt\n",
    "import numpy as np"
   ]
  },
  {
   "cell_type": "code",
   "execution_count": null,
   "metadata": {},
   "outputs": [],
   "source": []
  }
 ],
 "metadata": {
  "kernelspec": {
   "display_name": "Python 3.8.2 64-bit ('covid19-tribes-BsClMMJT-py3.8': venv)",
   "language": "python",
   "name": "python38264bitcovid19tribesbsclmmjtpy38venv01a4203d62dd4581a2bac6a1571ab734"
  }
 },
 "nbformat": 4,
 "nbformat_minor": 2
}
